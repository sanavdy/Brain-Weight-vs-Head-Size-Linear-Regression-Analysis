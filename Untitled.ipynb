{
 "cells": [
  {
   "cell_type": "code",
   "execution_count": 1,
   "id": "b92f1e9a",
   "metadata": {},
   "outputs": [
    {
     "name": "stdout",
     "output_type": "stream",
     "text": [
      "     Gender  Age Range  Head Size(cm^3)  Brain Weight(grams)\n",
      "0         1          1             4512                 1530\n",
      "1         1          1             3738                 1297\n",
      "2         1          1             4261                 1335\n",
      "3         1          1             3777                 1282\n",
      "4         1          1             4177                 1590\n",
      "..      ...        ...              ...                  ...\n",
      "232       2          2             3214                 1110\n",
      "233       2          2             3394                 1215\n",
      "234       2          2             3233                 1104\n",
      "235       2          2             3352                 1170\n",
      "236       2          2             3391                 1120\n",
      "\n",
      "[237 rows x 4 columns]\n"
     ]
    }
   ],
   "source": [
    "#regression analysis using test and train\n",
    "import pandas as pd\n",
    "import numpy as np\n",
    "import matplotlib.pyplot as plt\n",
    "df = pd.read_csv(r'C:\\Users\\sanam\\Downloads\\head brain.csv')\n",
    "print(df)"
   ]
  },
  {
   "cell_type": "code",
   "execution_count": 64,
   "id": "084a89fc",
   "metadata": {},
   "outputs": [
    {
     "data": {
      "text/html": [
       "<div>\n",
       "<style scoped>\n",
       "    .dataframe tbody tr th:only-of-type {\n",
       "        vertical-align: middle;\n",
       "    }\n",
       "\n",
       "    .dataframe tbody tr th {\n",
       "        vertical-align: top;\n",
       "    }\n",
       "\n",
       "    .dataframe thead th {\n",
       "        text-align: right;\n",
       "    }\n",
       "</style>\n",
       "<table border=\"1\" class=\"dataframe\">\n",
       "  <thead>\n",
       "    <tr style=\"text-align: right;\">\n",
       "      <th></th>\n",
       "      <th>Gender</th>\n",
       "      <th>Age Range</th>\n",
       "      <th>Head Size(cm^3)</th>\n",
       "      <th>Brain Weight(grams)</th>\n",
       "    </tr>\n",
       "  </thead>\n",
       "  <tbody>\n",
       "    <tr>\n",
       "      <th>0</th>\n",
       "      <td>1</td>\n",
       "      <td>1</td>\n",
       "      <td>4512</td>\n",
       "      <td>1530</td>\n",
       "    </tr>\n",
       "    <tr>\n",
       "      <th>1</th>\n",
       "      <td>1</td>\n",
       "      <td>1</td>\n",
       "      <td>3738</td>\n",
       "      <td>1297</td>\n",
       "    </tr>\n",
       "    <tr>\n",
       "      <th>2</th>\n",
       "      <td>1</td>\n",
       "      <td>1</td>\n",
       "      <td>4261</td>\n",
       "      <td>1335</td>\n",
       "    </tr>\n",
       "    <tr>\n",
       "      <th>3</th>\n",
       "      <td>1</td>\n",
       "      <td>1</td>\n",
       "      <td>3777</td>\n",
       "      <td>1282</td>\n",
       "    </tr>\n",
       "    <tr>\n",
       "      <th>4</th>\n",
       "      <td>1</td>\n",
       "      <td>1</td>\n",
       "      <td>4177</td>\n",
       "      <td>1590</td>\n",
       "    </tr>\n",
       "  </tbody>\n",
       "</table>\n",
       "</div>"
      ],
      "text/plain": [
       "   Gender  Age Range  Head Size(cm^3)  Brain Weight(grams)\n",
       "0       1          1             4512                 1530\n",
       "1       1          1             3738                 1297\n",
       "2       1          1             4261                 1335\n",
       "3       1          1             3777                 1282\n",
       "4       1          1             4177                 1590"
      ]
     },
     "execution_count": 64,
     "metadata": {},
     "output_type": "execute_result"
    }
   ],
   "source": [
    "df.head()"
   ]
  },
  {
   "cell_type": "code",
   "execution_count": 3,
   "id": "8a1034d6",
   "metadata": {},
   "outputs": [
    {
     "data": {
      "text/plain": [
       "<AxesSubplot:xlabel='Head Size(cm^3)', ylabel='Brain Weight(grams)'>"
      ]
     },
     "execution_count": 3,
     "metadata": {},
     "output_type": "execute_result"
    },
    {
     "data": {
      "image/png": "[encoded data removed]",
      "text/plain": [
       "<Figure size 432x288 with 1 Axes>"
      ]
     },
     "metadata": {
      "needs_background": "light"
     },
     "output_type": "display_data"
    }
   ],
   "source": [
    "df.plot.scatter(x='Head Size(cm^3)', y='Brain Weight(grams)')"
   ]
  },
  {
   "cell_type": "code",
   "execution_count": 4,
   "id": "ee64b3dc",
   "metadata": {},
   "outputs": [
    {
     "name": "stdout",
     "output_type": "stream",
     "text": [
      "                       Gender  Age Range  Head Size(cm^3)  Brain Weight(grams)\n",
      "Gender               1.000000  -0.088652        -0.514050            -0.465266\n",
      "Age Range           -0.088652   1.000000        -0.105428            -0.169438\n",
      "Head Size(cm^3)     -0.514050  -0.105428         1.000000             0.799570\n",
      "Brain Weight(grams) -0.465266  -0.169438         0.799570             1.000000\n"
     ]
    }
   ],
   "source": [
    "print(df.corr())"
   ]
  },
  {
   "cell_type": "code",
   "execution_count": 5,
   "id": "ce207606",
   "metadata": {},
   "outputs": [
    {
     "name": "stdout",
     "output_type": "stream",
     "text": [
      "           Gender   Age Range  Head Size(cm^3)  Brain Weight(grams)\n",
      "count  237.000000  237.000000       237.000000           237.000000\n",
      "mean     1.434599    1.535865      3633.991561          1282.873418\n",
      "std      0.496753    0.499768       365.261422           120.340446\n",
      "min      1.000000    1.000000      2720.000000           955.000000\n",
      "25%      1.000000    1.000000      3389.000000          1207.000000\n",
      "50%      1.000000    2.000000      3614.000000          1280.000000\n",
      "75%      2.000000    2.000000      3876.000000          1350.000000\n",
      "max      2.000000    2.000000      4747.000000          1635.000000\n"
     ]
    }
   ],
   "source": [
    "print(df.describe())"
   ]
  },
  {
   "cell_type": "code",
   "execution_count": 7,
   "id": "9460c676",
   "metadata": {},
   "outputs": [],
   "source": [
    "y = df['Brain Weight(grams)'].values.reshape(-1, 1)\n",
    "X = df['Head Size(cm^3)'].values.reshape(-1, 1)"
   ]
  },
  {
   "cell_type": "code",
   "execution_count": 8,
   "id": "ace20cbd",
   "metadata": {},
   "outputs": [
    {
     "name": "stdout",
     "output_type": "stream",
     "text": [
      "[4512 3738 4261 3777 4177 3585 3785 3559 3613 3982 3443 3993 3640 4208\n",
      " 3832 3876 3497 3466 3095 4424 3878 4046 3804 3710 4747 4423 4036 4022\n",
      " 3454 4175 3787 3796 4103 4161 4158 3814 3527 3748 3334 3492 3962 3505\n",
      " 4315 3804 3863 4034 4308 3165 3641 3644 3891 3793 4270 4063 4012 3458\n",
      " 3890 4166 3935 3669 3866 3393 4442 4253 3727 3329 3415 3372 4430 4381\n",
      " 4008 3858 4121 4057 3824 3394 3558 3362 3930 3835 3830 3856 3249 3577\n",
      " 3933 3850 3309 3406 3506 3907 4160 3318 3662 3899 3700 3779 3473 3490\n",
      " 3654 3478 3495 3834 3876 3661 3618 3648 4032 3399 3916 4430 3695 3524\n",
      " 3571 3594 3383 3499 3589 3900 4114 3937 3399 4200 4488 3614 4051 3782\n",
      " 3391 3124 4053 3582 3666 3532 4046 3667 2857 3436 3791 3302 3104 3171\n",
      " 3572 3530 3175 3438 3903 3899 3401 3267 3451 3090 3413 3323 3680 3439\n",
      " 3853 3156 3279 3707 4006 3269 3071 3779 3548 3292 3497 3082 3248 3358\n",
      " 3803 3566 3145 3503 3571 3724 3615 3203 3609 3561 3979 3533 3689 3158\n",
      " 4005 3181 3479 3642 3632 3069 3394 3703 3165 3354 3000 3687 3556 2773\n",
      " 3058 3344 3493 3297 3360 3228 3277 3851 3067 3692 3402 3995 3318 2720\n",
      " 2937 3580 2939 2989 3586 3156 3246 3170 3268 3389 3381 2864 3740 3479\n",
      " 3647 3716 3284 4204 3735 3218 3685 3704 3214 3394 3233 3352 3391]\n",
      "(237,)\n"
     ]
    }
   ],
   "source": [
    "print(df['Head Size(cm^3)'].values) \n",
    "print(df['Head Size(cm^3)'].values.shape) "
   ]
  },
  {
   "cell_type": "code",
   "execution_count": 9,
   "id": "cab1b300",
   "metadata": {},
   "outputs": [],
   "source": [
    "from sklearn.model_selection import train_test_split\n",
    "X_train, X_test, y_train, y_test = train_test_split(X, y, test_size = 0.2)"
   ]
  },
  {
   "cell_type": "code",
   "execution_count": 10,
   "id": "df3219de",
   "metadata": {},
   "outputs": [],
   "source": [
    "SEED = 42"
   ]
  },
  {
   "cell_type": "code",
   "execution_count": 11,
   "id": "97c29cce",
   "metadata": {},
   "outputs": [],
   "source": [
    "X_train, X_test, y_train, y_test = train_test_split(X, y, test_size = 0.2, random_state = SEED)"
   ]
  },
  {
   "cell_type": "code",
   "execution_count": 62,
   "id": "99214503",
   "metadata": {
    "scrolled": true
   },
   "outputs": [
    {
     "name": "stdout",
     "output_type": "stream",
     "text": [
      "[[4121]\n",
      " [4442]\n",
      " [4424]\n",
      " [3362]\n",
      " [3779]\n",
      " [3323]\n",
      " [3561]\n",
      " [3532]\n",
      " [3586]\n",
      " [3748]\n",
      " [3527]\n",
      " [3497]\n",
      " [3466]\n",
      " [3832]\n",
      " [3740]\n",
      " [3692]\n",
      " [4160]\n",
      " [4053]\n",
      " [4270]\n",
      " [3156]\n",
      " [4114]\n",
      " [4512]\n",
      " [3443]\n",
      " [4423]\n",
      " [3175]\n",
      " [3454]\n",
      " [3642]\n",
      " [3830]\n",
      " [3360]\n",
      " [3246]\n",
      " [3876]\n",
      " [3203]\n",
      " [3585]\n",
      " [3233]\n",
      " [3735]\n",
      " [3853]\n",
      " [3381]\n",
      " [3738]\n",
      " [3082]\n",
      " [3648]\n",
      " [3490]\n",
      " [3835]\n",
      " [3858]\n",
      " [3685]\n",
      " [3402]\n",
      " [4381]\n",
      " [3700]\n",
      " [3899]\n",
      " [3899]\n",
      " [3393]\n",
      " [3609]\n",
      " [3580]\n",
      " [3277]\n",
      " [3863]\n",
      " [3156]\n",
      " [3930]\n",
      " [4204]\n",
      " [4158]\n",
      " [3613]\n",
      " [3499]\n",
      " [3571]\n",
      " [3095]\n",
      " [4253]\n",
      " [4177]\n",
      " [3399]\n",
      " [3497]\n",
      " [3406]\n",
      " [4161]\n",
      " [2989]\n",
      " [3891]\n",
      " [3413]\n",
      " [3647]\n",
      " [3727]\n",
      " [3124]\n",
      " [4208]\n",
      " [3344]\n",
      " [3090]\n",
      " [3292]\n",
      " [3302]\n",
      " [3577]\n",
      " [3503]\n",
      " [4034]\n",
      " [3716]\n",
      " [3779]\n",
      " [3493]\n",
      " [4057]\n",
      " [4103]\n",
      " [3354]\n",
      " [3791]\n",
      " [4308]\n",
      " [3158]\n",
      " [3903]\n",
      " [3707]\n",
      " [3662]\n",
      " [3850]\n",
      " [4166]\n",
      " [3614]\n",
      " [3297]\n",
      " [2773]\n",
      " [3358]\n",
      " [3615]\n",
      " [3559]\n",
      " [3667]\n",
      " [4051]\n",
      " [4012]\n",
      " [4006]\n",
      " [3171]\n",
      " [3439]\n",
      " [4008]\n",
      " [3334]\n",
      " [3352]\n",
      " [3695]\n",
      " [3710]\n",
      " [4063]\n",
      " [3876]\n",
      " [3900]\n",
      " [2720]\n",
      " [3666]\n",
      " [3249]\n",
      " [3687]\n",
      " [3268]\n",
      " [3962]\n",
      " [3804]\n",
      " [3438]\n",
      " [3787]\n",
      " [3796]\n",
      " [2857]\n",
      " [4032]\n",
      " [3279]\n",
      " [3782]\n",
      " [3937]\n",
      " [3566]\n",
      " [3394]\n",
      " [3640]\n",
      " [3589]\n",
      " [3907]\n",
      " [3995]\n",
      " [3506]\n",
      " [3979]\n",
      " [3267]\n",
      " [2939]\n",
      " [3777]\n",
      " [3269]\n",
      " [3878]\n",
      " [3785]\n",
      " [4261]\n",
      " [3571]\n",
      " [3703]\n",
      " [3572]\n",
      " [4488]\n",
      " [2937]\n",
      " [3669]\n",
      " [3284]\n",
      " [3329]\n",
      " [3069]\n",
      " [3165]\n",
      " [3704]\n",
      " [3890]\n",
      " [3067]\n",
      " [3680]\n",
      " [3458]\n",
      " [4315]\n",
      " [2864]\n",
      " [3228]\n",
      " [3492]\n",
      " [3214]\n",
      " [3383]\n",
      " [4046]\n",
      " [3401]\n",
      " [3478]\n",
      " [3479]\n",
      " [3632]\n",
      " [4175]\n",
      " [3558]\n",
      " [3851]\n",
      " [3661]\n",
      " [3524]]\n",
      "[[1380]\n",
      " [1330]\n",
      " [1400]\n",
      " [1188]\n",
      " [1165]\n",
      " [1249]\n",
      " [1127]\n",
      " [1335]\n",
      " [1250]\n",
      " [1350]\n",
      " [1375]\n",
      " [1280]\n",
      " [1292]\n",
      " [1208]\n",
      " [1280]\n",
      " [1305]\n",
      " [1370]\n",
      " [1312]\n",
      " [1335]\n",
      " [1170]\n",
      " [1362]\n",
      " [1530]\n",
      " [1340]\n",
      " [1505]\n",
      " [1200]\n",
      " [1310]\n",
      " [1205]\n",
      " [1245]\n",
      " [1095]\n",
      " [1180]\n",
      " [1588]\n",
      " [1180]\n",
      " [1300]\n",
      " [1104]\n",
      " [1350]\n",
      " [1373]\n",
      " [1185]\n",
      " [1297]\n",
      " [1180]\n",
      " [1260]\n",
      " [1132]\n",
      " [1315]\n",
      " [1390]\n",
      " [1350]\n",
      " [1220]\n",
      " [1415]\n",
      " [1290]\n",
      " [1380]\n",
      " [1346]\n",
      " [1175]\n",
      " [1210]\n",
      " [1320]\n",
      " [1105]\n",
      " [1340]\n",
      " [1225]\n",
      " [1252]\n",
      " [1380]\n",
      " [1432]\n",
      " [1355]\n",
      " [1275]\n",
      " [1295]\n",
      " [1340]\n",
      " [1485]\n",
      " [1590]\n",
      " [1226]\n",
      " [1358]\n",
      " [1220]\n",
      " [1405]\n",
      " [1130]\n",
      " [1224]\n",
      " [1322]\n",
      " [1408]\n",
      " [1470]\n",
      " [1165]\n",
      " [1522]\n",
      " [1220]\n",
      " [1168]\n",
      " [1075]\n",
      " [1165]\n",
      " [1245]\n",
      " [1240]\n",
      " [1422]\n",
      " [1300]\n",
      " [1520]\n",
      " [1240]\n",
      " [1432]\n",
      " [1364]\n",
      " [1204]\n",
      " [1260]\n",
      " [1506]\n",
      " [1100]\n",
      " [1334]\n",
      " [1235]\n",
      " [1230]\n",
      " [1412]\n",
      " [1560]\n",
      " [1180]\n",
      " [1220]\n",
      " [1076]\n",
      " [1190]\n",
      " [1350]\n",
      " [1255]\n",
      " [1310]\n",
      " [1306]\n",
      " [1400]\n",
      " [1302]\n",
      " [1127]\n",
      " [1192]\n",
      " [1468]\n",
      " [1236]\n",
      " [1170]\n",
      " [1310]\n",
      " [1270]\n",
      " [1390]\n",
      " [1405]\n",
      " [1270]\n",
      " [ 955]\n",
      " [1270]\n",
      " [1279]\n",
      " [1355]\n",
      " [1142]\n",
      " [1350]\n",
      " [1570]\n",
      " [1290]\n",
      " [1318]\n",
      " [1432]\n",
      " [1027]\n",
      " [1425]\n",
      " [1265]\n",
      " [1350]\n",
      " [1300]\n",
      " [1306]\n",
      " [1215]\n",
      " [1355]\n",
      " [1250]\n",
      " [1440]\n",
      " [1296]\n",
      " [1280]\n",
      " [1324]\n",
      " [1243]\n",
      " [1060]\n",
      " [1282]\n",
      " [1241]\n",
      " [1357]\n",
      " [1400]\n",
      " [1335]\n",
      " [1316]\n",
      " [1350]\n",
      " [1270]\n",
      " [1440]\n",
      " [1070]\n",
      " [1222]\n",
      " [1246]\n",
      " [1135]\n",
      " [1022]\n",
      " [1215]\n",
      " [1220]\n",
      " [1310]\n",
      " [1150]\n",
      " [1321]\n",
      " [1225]\n",
      " [1525]\n",
      " [1012]\n",
      " [1235]\n",
      " [1250]\n",
      " [1110]\n",
      " [1290]\n",
      " [1287]\n",
      " [1140]\n",
      " [1270]\n",
      " [1160]\n",
      " [1163]\n",
      " [1420]\n",
      " [1225]\n",
      " [1405]\n",
      " [1320]\n",
      " [1250]]\n"
     ]
    }
   ],
   "source": [
    "print(X_train)\n",
    "print(y_train)"
   ]
  },
  {
   "cell_type": "code",
   "execution_count": 67,
   "id": "53830949",
   "metadata": {},
   "outputs": [],
   "source": [
    "from sklearn.linear_model import LinearRegression\n",
    "regressor = LinearRegression"
   ]
  },
  {
   "cell_type": "code",
   "execution_count": 47,
   "id": "ee7e1707",
   "metadata": {},
   "outputs": [
    {
     "data": {
      "text/plain": [
       "LinearRegression()"
      ]
     },
     "execution_count": 47,
     "metadata": {},
     "output_type": "execute_result"
    }
   ],
   "source": [
    "regressor.fit(X_train, y_train)"
   ]
  },
  {
   "cell_type": "code",
   "execution_count": 48,
   "id": "d786a756",
   "metadata": {},
   "outputs": [
    {
     "name": "stdout",
     "output_type": "stream",
     "text": [
      "[282.79791847]\n"
     ]
    }
   ],
   "source": [
    "print(regressor.intercept_)"
   ]
  },
  {
   "cell_type": "code",
   "execution_count": 49,
   "id": "ff499dc8",
   "metadata": {},
   "outputs": [
    {
     "name": "stdout",
     "output_type": "stream",
     "text": [
      "[[0.2758561]]\n"
     ]
    }
   ],
   "source": [
    "print(regressor.coef_)"
   ]
  },
  {
   "cell_type": "code",
   "execution_count": 50,
   "id": "6fade9a5",
   "metadata": {},
   "outputs": [
    {
     "data": {
      "text/plain": [
       "<Figure size 432x288 with 0 Axes>"
      ]
     },
     "execution_count": 50,
     "metadata": {},
     "output_type": "execute_result"
    },
    {
     "data": {
      "text/plain": [
       "<Figure size 432x288 with 0 Axes>"
      ]
     },
     "metadata": {},
     "output_type": "display_data"
    }
   ],
   "source": [
    "plt.figure()"
   ]
  },
  {
   "cell_type": "code",
   "execution_count": 51,
   "id": "af25f465",
   "metadata": {},
   "outputs": [
    {
     "data": {
      "text/plain": [
       "[<matplotlib.lines.Line2D at 0x212f5a6c8b0>]"
      ]
     },
     "execution_count": 51,
     "metadata": {},
     "output_type": "execute_result"
    },
    {
     "data": {
      "image/png": "[encoded data removed]",
      "text/plain": [
       "<Figure size 432x288 with 1 Axes>"
      ]
     },
     "metadata": {
      "needs_background": "light"
     },
     "output_type": "display_data"
    }
   ],
   "source": [
    "plt.plot(X_test,y_test)"
   ]
  },
  {
   "cell_type": "code",
   "execution_count": 52,
   "id": "dbf3a2cb",
   "metadata": {},
   "outputs": [
    {
     "data": {
      "text/plain": [
       "[<matplotlib.lines.Line2D at 0x212f5acfb20>]"
      ]
     },
     "execution_count": 52,
     "metadata": {},
     "output_type": "execute_result"
    },
    {
     "data": {
      "image/png": "[encoded data removed]",
      "text/plain": [
       "<Figure size 432x288 with 1 Axes>"
      ]
     },
     "metadata": {
      "needs_background": "light"
     },
     "output_type": "display_data"
    }
   ],
   "source": [
    "plt.plot(X_train, y_train)"
   ]
  },
  {
   "cell_type": "code",
   "execution_count": 53,
   "id": "4d86e2d7",
   "metadata": {},
   "outputs": [],
   "source": [
    "#regression analysis using sklearn\n",
    "import numpy as np\n",
    "import pandas as pd\n",
    "import seaborn as sns\n",
    "import matplotlib.pyplot as plt\n",
    "from sklearn import preprocessing, svm\n",
    "from sklearn.model_selection import train_test_split\n",
    "from sklearn.linear_model import LinearRegression"
   ]
  },
  {
   "cell_type": "code",
   "execution_count": 61,
   "id": "49481a29",
   "metadata": {
    "scrolled": true
   },
   "outputs": [
    {
     "name": "stdout",
     "output_type": "stream",
     "text": [
      "     Gender  Age Range  Head Size(cm^3)  Brain Weight(grams)\n",
      "0         1          1             4512                 1530\n",
      "1         1          1             3738                 1297\n",
      "2         1          1             4261                 1335\n",
      "3         1          1             3777                 1282\n",
      "4         1          1             4177                 1590\n",
      "..      ...        ...              ...                  ...\n",
      "232       2          2             3214                 1110\n",
      "233       2          2             3394                 1215\n",
      "234       2          2             3233                 1104\n",
      "235       2          2             3352                 1170\n",
      "236       2          2             3391                 1120\n",
      "\n",
      "[237 rows x 4 columns]\n"
     ]
    },
    {
     "data": {
      "text/html": [
       "<div>\n",
       "<style scoped>\n",
       "    .dataframe tbody tr th:only-of-type {\n",
       "        vertical-align: middle;\n",
       "    }\n",
       "\n",
       "    .dataframe tbody tr th {\n",
       "        vertical-align: top;\n",
       "    }\n",
       "\n",
       "    .dataframe thead th {\n",
       "        text-align: right;\n",
       "    }\n",
       "</style>\n",
       "<table border=\"1\" class=\"dataframe\">\n",
       "  <thead>\n",
       "    <tr style=\"text-align: right;\">\n",
       "      <th></th>\n",
       "      <th>Head Size(cm^3)</th>\n",
       "      <th>Brain Weight(grams)</th>\n",
       "    </tr>\n",
       "  </thead>\n",
       "  <tbody>\n",
       "    <tr>\n",
       "      <th>0</th>\n",
       "      <td>4512</td>\n",
       "      <td>1530</td>\n",
       "    </tr>\n",
       "    <tr>\n",
       "      <th>1</th>\n",
       "      <td>3738</td>\n",
       "      <td>1297</td>\n",
       "    </tr>\n",
       "    <tr>\n",
       "      <th>2</th>\n",
       "      <td>4261</td>\n",
       "      <td>1335</td>\n",
       "    </tr>\n",
       "    <tr>\n",
       "      <th>3</th>\n",
       "      <td>3777</td>\n",
       "      <td>1282</td>\n",
       "    </tr>\n",
       "    <tr>\n",
       "      <th>4</th>\n",
       "      <td>4177</td>\n",
       "      <td>1590</td>\n",
       "    </tr>\n",
       "  </tbody>\n",
       "</table>\n",
       "</div>"
      ],
      "text/plain": [
       "   Head Size(cm^3)  Brain Weight(grams)\n",
       "0             4512                 1530\n",
       "1             3738                 1297\n",
       "2             4261                 1335\n",
       "3             3777                 1282\n",
       "4             4177                 1590"
      ]
     },
     "execution_count": 61,
     "metadata": {},
     "output_type": "execute_result"
    }
   ],
   "source": [
    "df = pd.read_csv(r'C:\\Users\\sanam\\Downloads\\head brain.csv')\n",
    "print(df)\n",
    "df_binary = df[['Head Size(cm^3)', 'Brain Weight(grams)']]\n",
    "df_binary.columns = ['Head Size(cm^3)', 'Brain Weight(grams)']\n",
    "df_binary.head()"
   ]
  },
  {
   "cell_type": "code",
   "execution_count": 55,
   "id": "4c9f80c6",
   "metadata": {},
   "outputs": [
    {
     "data": {
      "text/plain": [
       "<seaborn.axisgrid.FacetGrid at 0x212f5af8850>"
      ]
     },
     "execution_count": 55,
     "metadata": {},
     "output_type": "execute_result"
    },
    {
     "data": {
      "image/png": "[encoded data removed]",
      "text/plain": [
       "<Figure size 360x360 with 1 Axes>"
      ]
     },
     "metadata": {
      "needs_background": "light"
     },
     "output_type": "display_data"
    }
   ],
   "source": [
    "sns.lmplot(x =\"Head Size(cm^3)\", y =\"Brain Weight(grams)\", data = df_binary, order = 2, ci = None)"
   ]
  },
  {
   "cell_type": "code",
   "execution_count": 69,
   "id": "9579fe19",
   "metadata": {},
   "outputs": [
    {
     "name": "stdout",
     "output_type": "stream",
     "text": [
      "0.7046423233320892\n"
     ]
    },
    {
     "name": "stderr",
     "output_type": "stream",
     "text": [
      "C:\\Users\\sanam\\AppData\\Local\\Temp\\ipykernel_9772\\3083276029.py:3: SettingWithCopyWarning: \n",
      "A value is trying to be set on a copy of a slice from a DataFrame\n",
      "\n",
      "See the caveats in the documentation: https://pandas.pydata.org/pandas-docs/stable/user_guide/indexing.html#returning-a-view-versus-a-copy\n",
      "  df_binary.dropna(inplace = True)\n"
     ]
    }
   ],
   "source": [
    "X = np.array(df_binary['Head Size(cm^3)']).reshape(-1, 1)\n",
    "y = np.array(df_binary['Brain Weight(grams)']).reshape(-1, 1)\n",
    "df_binary.dropna(inplace = True)\n",
    "X_train, X_test, y_train, y_test = train_test_split(X, y, test_size = 0.25)\n",
    "r = LinearRegression()\n",
    "r.fit(X_train, y_train)\n",
    "print(r.score(X_test, y_test))"
   ]
  },
  {
   "cell_type": "code",
   "execution_count": 57,
   "id": "6b08f139",
   "metadata": {},
   "outputs": [
    {
     "data": {
      "image/png": "[encoded data removed]",
      "text/plain": [
       "<Figure size 432x288 with 1 Axes>"
      ]
     },
     "metadata": {
      "needs_background": "light"
     },
     "output_type": "display_data"
    }
   ],
   "source": [
    "y_pred = regr.predict(X_test)\n",
    "plt.scatter(X_test, y_test, color ='blue')\n",
    "plt.plot(X_test, y_pred, color ='red')\n",
    "plt.show()"
   ]
  },
  {
   "cell_type": "code",
   "execution_count": 58,
   "id": "c2b83710",
   "metadata": {
    "scrolled": true
   },
   "outputs": [
    {
     "data": {
      "text/plain": [
       "<seaborn.axisgrid.FacetGrid at 0x212f5bcffa0>"
      ]
     },
     "execution_count": 58,
     "metadata": {},
     "output_type": "execute_result"
    },
    {
     "data": {
      "image/png": "[encoded data removed]",
      "text/plain": [
       "<Figure size 360x360 with 1 Axes>"
      ]
     },
     "metadata": {
      "needs_background": "light"
     },
     "output_type": "display_data"
    }
   ],
   "source": [
    "df_binary500 = df_binary[:][:500]\n",
    "sns.lmplot(x =\"Head Size(cm^3)\", y =\"Brain Weight(grams)\", data = df_binary500, order = 2, ci = None)"
   ]
  },
  {
   "cell_type": "code",
   "execution_count": 66,
   "id": "b07a14fb",
   "metadata": {},
   "outputs": [
    {
     "name": "stdout",
     "output_type": "stream",
     "text": [
      "0.5187433625072595\n"
     ]
    }
   ],
   "source": [
    "df_binary500.fillna(method ='ffill', inplace = True)\n",
    "X = np.array(df_binary500['Head Size(cm^3)']).reshape(-1, 1)\n",
    "y = np.array(df_binary500['Brain Weight(grams)']).reshape(-1, 1)\n",
    "df_binary500.dropna(inplace = True)\n",
    "X_train, X_test, y_train, y_test = train_test_split(X, y, test_size = 0.25)\n",
    "r = LinearRegression()\n",
    "r.fit(X_train, y_train)\n",
    "print(r.score(X_test, y_test))"
   ]
  },
  {
   "cell_type": "code",
   "execution_count": 70,
   "id": "6fdf6844",
   "metadata": {},
   "outputs": [
    {
     "data": {
      "image/png": "[encoded data removed]",
      "text/plain": [
       "<Figure size 432x288 with 1 Axes>"
      ]
     },
     "metadata": {
      "needs_background": "light"
     },
     "output_type": "display_data"
    }
   ],
   "source": [
    "y_pred = regr.predict(X_test)\n",
    "plt.scatter(X_test, y_test, color ='blue')\n",
    "plt.plot(X_test, y_pred, color ='red')\n",
    "plt.show()"
   ]
  },
  {
   "cell_type": "code",
   "execution_count": 74,
   "id": "4cc07636",
   "metadata": {},
   "outputs": [
    {
     "name": "stdout",
     "output_type": "stream",
     "text": [
      "     A    B    C\n",
      "0  1.0  2.0  3.0\n",
      "1  4.0  5.0  6.0\n",
      "2  7.0  8.0  9.0\n",
      "3  NaN  NaN  NaN\n",
      "        A     B     C\n",
      "sum  12.0  15.0  18.0\n",
      "min   1.0   2.0   3.0\n",
      "        A    B\n",
      "sum  12.0  NaN\n",
      "min   1.0  2.0\n",
      "max   NaN  8.0\n",
      "0    2.0\n",
      "1    5.0\n",
      "2    8.0\n",
      "3    NaN\n",
      "dtype: float64\n",
      "A    4.0\n",
      "B    5.0\n",
      "C    6.0\n",
      "dtype: float64\n"
     ]
    }
   ],
   "source": [
    "#aggregations over rows and columns\n",
    "import pandas as pd\n",
    "import numpy as np\n",
    "df = pd.DataFrame([[1, 2, 3], [4, 5, 6],[7, 8, 9], [np.nan, np.nan, np.nan]],columns = ['A', 'B', 'C'])\n",
    "print(df)\n",
    "print(df.agg(['sum', 'min']))\n",
    "print(df.agg({'A' : ['sum', 'min'], 'B' : ['min', 'max']}))\n",
    "print(df.agg(\"mean\", axis=\"columns\"))\n",
    "print(df.agg(\"mean\", axis=\"rows\"))"
   ]
  },
  {
   "cell_type": "code",
   "execution_count": 97,
   "id": "a5180f4c",
   "metadata": {},
   "outputs": [
    {
     "name": "stdout",
     "output_type": "stream",
     "text": [
      "     index                date  duration  item    month   network network_type\n",
      "0        0 2014-10-15 06:58:00    34.429  data  2014-11      data         data\n",
      "1        1 2014-10-15 06:58:00    13.000  call  2014-11  Vodafone       mobile\n",
      "2        2 2014-10-15 14:46:00    23.000  call  2014-11    Meteor       mobile\n",
      "3        3 2014-10-15 14:48:00     4.000  call  2014-11     Tesco       mobile\n",
      "4        4 2014-10-15 17:27:00     4.000  call  2014-11     Tesco       mobile\n",
      "..     ...                 ...       ...   ...      ...       ...          ...\n",
      "825    825 2015-03-13 00:38:00     1.000   sms  2015-03     world        world\n",
      "826    826 2015-03-13 00:39:00     1.000   sms  2015-03  Vodafone       mobile\n",
      "827    827 2015-03-13 06:58:00    34.429  data  2015-03      data         data\n",
      "828    828 2015-03-14 00:13:00     1.000   sms  2015-03     world        world\n",
      "829    829 2015-03-14 00:16:00     1.000   sms  2015-03     world        world\n",
      "\n",
      "[830 rows x 7 columns]\n"
     ]
    }
   ],
   "source": [
    "#use auto regression\n",
    "\n",
    "#phone dataset\n",
    "import pandas as pd\n",
    "import dateutil\n",
    "data = pd.read_csv(r'C:\\Users\\sanam\\Downloads\\phone_data.csv')\n",
    "data['date'] = data['date'].apply(dateutil.parser.parse, dayfirst=True)\n",
    "print(data)"
   ]
  },
  {
   "cell_type": "code",
   "execution_count": 89,
   "id": "6ac8ccff",
   "metadata": {},
   "outputs": [
    {
     "data": {
      "text/plain": [
       "830"
      ]
     },
     "execution_count": 89,
     "metadata": {},
     "output_type": "execute_result"
    }
   ],
   "source": [
    "data['item'].count()"
   ]
  },
  {
   "cell_type": "code",
   "execution_count": 91,
   "id": "65494d18",
   "metadata": {},
   "outputs": [
    {
     "data": {
      "text/plain": [
       "10528.0"
      ]
     },
     "execution_count": 91,
     "metadata": {},
     "output_type": "execute_result"
    }
   ],
   "source": [
    "data['duration'].max()"
   ]
  },
  {
   "cell_type": "code",
   "execution_count": 92,
   "id": "d45c59c9",
   "metadata": {},
   "outputs": [
    {
     "data": {
      "text/plain": [
       "92321.0"
      ]
     },
     "execution_count": 92,
     "metadata": {},
     "output_type": "execute_result"
    }
   ],
   "source": [
    "data['duration'][data['item'] == 'call'].sum()"
   ]
  },
  {
   "cell_type": "code",
   "execution_count": 94,
   "id": "db9dd29f",
   "metadata": {},
   "outputs": [
    {
     "data": {
      "text/plain": [
       "2014-11    230\n",
       "2015-01    205\n",
       "2014-12    157\n",
       "2015-02    137\n",
       "2015-03    101\n",
       "Name: month, dtype: int64"
      ]
     },
     "execution_count": 94,
     "metadata": {},
     "output_type": "execute_result"
    }
   ],
   "source": [
    "data['month'].value_counts()"
   ]
  },
  {
   "cell_type": "code",
   "execution_count": 96,
   "id": "915597e3",
   "metadata": {},
   "outputs": [
    {
     "data": {
      "text/plain": [
       "230"
      ]
     },
     "execution_count": 96,
     "metadata": {},
     "output_type": "execute_result"
    }
   ],
   "source": [
    "#using groupby()\n",
    "data.groupby(['month']).groups.keys()\n",
    "len(data.groupby(['month']).groups['2014-11'])"
   ]
  },
  {
   "cell_type": "code",
   "execution_count": 99,
   "id": "0db06de6",
   "metadata": {},
   "outputs": [
    {
     "data": {
      "text/html": [
       "<div>\n",
       "<style scoped>\n",
       "    .dataframe tbody tr th:only-of-type {\n",
       "        vertical-align: middle;\n",
       "    }\n",
       "\n",
       "    .dataframe tbody tr th {\n",
       "        vertical-align: top;\n",
       "    }\n",
       "\n",
       "    .dataframe thead th {\n",
       "        text-align: right;\n",
       "    }\n",
       "</style>\n",
       "<table border=\"1\" class=\"dataframe\">\n",
       "  <thead>\n",
       "    <tr style=\"text-align: right;\">\n",
       "      <th></th>\n",
       "      <th>index</th>\n",
       "      <th>date</th>\n",
       "      <th>duration</th>\n",
       "      <th>item</th>\n",
       "      <th>month</th>\n",
       "      <th>network</th>\n",
       "      <th>network_type</th>\n",
       "    </tr>\n",
       "  </thead>\n",
       "  <tbody>\n",
       "    <tr>\n",
       "      <th>0</th>\n",
       "      <td>0</td>\n",
       "      <td>2014-10-15 06:58:00</td>\n",
       "      <td>34.429</td>\n",
       "      <td>data</td>\n",
       "      <td>2014-11</td>\n",
       "      <td>data</td>\n",
       "      <td>data</td>\n",
       "    </tr>\n",
       "    <tr>\n",
       "      <th>1</th>\n",
       "      <td>1</td>\n",
       "      <td>2014-10-15 06:58:00</td>\n",
       "      <td>13.000</td>\n",
       "      <td>call</td>\n",
       "      <td>2014-11</td>\n",
       "      <td>Vodafone</td>\n",
       "      <td>mobile</td>\n",
       "    </tr>\n",
       "    <tr>\n",
       "      <th>2</th>\n",
       "      <td>2</td>\n",
       "      <td>2014-10-15 14:46:00</td>\n",
       "      <td>23.000</td>\n",
       "      <td>call</td>\n",
       "      <td>2014-11</td>\n",
       "      <td>Meteor</td>\n",
       "      <td>mobile</td>\n",
       "    </tr>\n",
       "    <tr>\n",
       "      <th>3</th>\n",
       "      <td>3</td>\n",
       "      <td>2014-10-15 14:48:00</td>\n",
       "      <td>4.000</td>\n",
       "      <td>call</td>\n",
       "      <td>2014-11</td>\n",
       "      <td>Tesco</td>\n",
       "      <td>mobile</td>\n",
       "    </tr>\n",
       "    <tr>\n",
       "      <th>4</th>\n",
       "      <td>4</td>\n",
       "      <td>2014-10-15 17:27:00</td>\n",
       "      <td>4.000</td>\n",
       "      <td>call</td>\n",
       "      <td>2014-11</td>\n",
       "      <td>Tesco</td>\n",
       "      <td>mobile</td>\n",
       "    </tr>\n",
       "    <tr>\n",
       "      <th>228</th>\n",
       "      <td>228</td>\n",
       "      <td>2014-11-13 06:58:00</td>\n",
       "      <td>34.429</td>\n",
       "      <td>data</td>\n",
       "      <td>2014-12</td>\n",
       "      <td>data</td>\n",
       "      <td>data</td>\n",
       "    </tr>\n",
       "    <tr>\n",
       "      <th>231</th>\n",
       "      <td>231</td>\n",
       "      <td>2014-11-14 06:58:00</td>\n",
       "      <td>34.429</td>\n",
       "      <td>data</td>\n",
       "      <td>2014-12</td>\n",
       "      <td>data</td>\n",
       "      <td>data</td>\n",
       "    </tr>\n",
       "    <tr>\n",
       "      <th>232</th>\n",
       "      <td>232</td>\n",
       "      <td>2014-11-14 17:24:00</td>\n",
       "      <td>124.000</td>\n",
       "      <td>call</td>\n",
       "      <td>2014-12</td>\n",
       "      <td>voicemail</td>\n",
       "      <td>voicemail</td>\n",
       "    </tr>\n",
       "    <tr>\n",
       "      <th>233</th>\n",
       "      <td>233</td>\n",
       "      <td>2014-11-14 17:28:00</td>\n",
       "      <td>1.000</td>\n",
       "      <td>sms</td>\n",
       "      <td>2014-12</td>\n",
       "      <td>Vodafone</td>\n",
       "      <td>mobile</td>\n",
       "    </tr>\n",
       "    <tr>\n",
       "      <th>234</th>\n",
       "      <td>234</td>\n",
       "      <td>2014-11-15 06:58:00</td>\n",
       "      <td>34.429</td>\n",
       "      <td>data</td>\n",
       "      <td>2014-12</td>\n",
       "      <td>data</td>\n",
       "      <td>data</td>\n",
       "    </tr>\n",
       "    <tr>\n",
       "      <th>381</th>\n",
       "      <td>381</td>\n",
       "      <td>2014-12-13 06:58:00</td>\n",
       "      <td>34.429</td>\n",
       "      <td>data</td>\n",
       "      <td>2015-01</td>\n",
       "      <td>data</td>\n",
       "      <td>data</td>\n",
       "    </tr>\n",
       "    <tr>\n",
       "      <th>386</th>\n",
       "      <td>386</td>\n",
       "      <td>2014-12-14 06:58:00</td>\n",
       "      <td>34.429</td>\n",
       "      <td>data</td>\n",
       "      <td>2015-01</td>\n",
       "      <td>data</td>\n",
       "      <td>data</td>\n",
       "    </tr>\n",
       "    <tr>\n",
       "      <th>389</th>\n",
       "      <td>389</td>\n",
       "      <td>2014-12-15 06:58:00</td>\n",
       "      <td>34.429</td>\n",
       "      <td>data</td>\n",
       "      <td>2015-01</td>\n",
       "      <td>data</td>\n",
       "      <td>data</td>\n",
       "    </tr>\n",
       "    <tr>\n",
       "      <th>390</th>\n",
       "      <td>390</td>\n",
       "      <td>2014-12-15 19:56:00</td>\n",
       "      <td>1.000</td>\n",
       "      <td>sms</td>\n",
       "      <td>2015-01</td>\n",
       "      <td>Three</td>\n",
       "      <td>mobile</td>\n",
       "    </tr>\n",
       "    <tr>\n",
       "      <th>391</th>\n",
       "      <td>391</td>\n",
       "      <td>2014-12-15 19:58:00</td>\n",
       "      <td>1.000</td>\n",
       "      <td>sms</td>\n",
       "      <td>2015-01</td>\n",
       "      <td>Three</td>\n",
       "      <td>mobile</td>\n",
       "    </tr>\n",
       "    <tr>\n",
       "      <th>577</th>\n",
       "      <td>577</td>\n",
       "      <td>2015-01-13 06:58:00</td>\n",
       "      <td>34.429</td>\n",
       "      <td>data</td>\n",
       "      <td>2015-02</td>\n",
       "      <td>data</td>\n",
       "      <td>data</td>\n",
       "    </tr>\n",
       "    <tr>\n",
       "      <th>586</th>\n",
       "      <td>586</td>\n",
       "      <td>2015-01-14 06:58:00</td>\n",
       "      <td>34.429</td>\n",
       "      <td>data</td>\n",
       "      <td>2015-02</td>\n",
       "      <td>data</td>\n",
       "      <td>data</td>\n",
       "    </tr>\n",
       "    <tr>\n",
       "      <th>594</th>\n",
       "      <td>594</td>\n",
       "      <td>2015-01-15 06:58:00</td>\n",
       "      <td>34.429</td>\n",
       "      <td>data</td>\n",
       "      <td>2015-02</td>\n",
       "      <td>data</td>\n",
       "      <td>data</td>\n",
       "    </tr>\n",
       "    <tr>\n",
       "      <th>595</th>\n",
       "      <td>595</td>\n",
       "      <td>2015-01-15 10:36:00</td>\n",
       "      <td>28.000</td>\n",
       "      <td>call</td>\n",
       "      <td>2015-02</td>\n",
       "      <td>Three</td>\n",
       "      <td>mobile</td>\n",
       "    </tr>\n",
       "    <tr>\n",
       "      <th>596</th>\n",
       "      <td>596</td>\n",
       "      <td>2015-01-15 12:23:00</td>\n",
       "      <td>1.000</td>\n",
       "      <td>sms</td>\n",
       "      <td>2015-02</td>\n",
       "      <td>special</td>\n",
       "      <td>special</td>\n",
       "    </tr>\n",
       "    <tr>\n",
       "      <th>729</th>\n",
       "      <td>729</td>\n",
       "      <td>2015-02-12 20:15:00</td>\n",
       "      <td>69.000</td>\n",
       "      <td>call</td>\n",
       "      <td>2015-03</td>\n",
       "      <td>landline</td>\n",
       "      <td>landline</td>\n",
       "    </tr>\n",
       "    <tr>\n",
       "      <th>730</th>\n",
       "      <td>730</td>\n",
       "      <td>2015-02-12 20:51:00</td>\n",
       "      <td>86.000</td>\n",
       "      <td>call</td>\n",
       "      <td>2015-03</td>\n",
       "      <td>Tesco</td>\n",
       "      <td>mobile</td>\n",
       "    </tr>\n",
       "    <tr>\n",
       "      <th>731</th>\n",
       "      <td>731</td>\n",
       "      <td>2015-02-13 06:58:00</td>\n",
       "      <td>34.429</td>\n",
       "      <td>data</td>\n",
       "      <td>2015-03</td>\n",
       "      <td>data</td>\n",
       "      <td>data</td>\n",
       "    </tr>\n",
       "    <tr>\n",
       "      <th>732</th>\n",
       "      <td>732</td>\n",
       "      <td>2015-02-13 10:58:00</td>\n",
       "      <td>451.000</td>\n",
       "      <td>call</td>\n",
       "      <td>2015-03</td>\n",
       "      <td>Vodafone</td>\n",
       "      <td>mobile</td>\n",
       "    </tr>\n",
       "    <tr>\n",
       "      <th>733</th>\n",
       "      <td>733</td>\n",
       "      <td>2015-02-13 21:13:00</td>\n",
       "      <td>8.000</td>\n",
       "      <td>call</td>\n",
       "      <td>2015-03</td>\n",
       "      <td>Vodafone</td>\n",
       "      <td>mobile</td>\n",
       "    </tr>\n",
       "  </tbody>\n",
       "</table>\n",
       "</div>"
      ],
      "text/plain": [
       "     index                date  duration  item    month    network  \\\n",
       "0        0 2014-10-15 06:58:00    34.429  data  2014-11       data   \n",
       "1        1 2014-10-15 06:58:00    13.000  call  2014-11   Vodafone   \n",
       "2        2 2014-10-15 14:46:00    23.000  call  2014-11     Meteor   \n",
       "3        3 2014-10-15 14:48:00     4.000  call  2014-11      Tesco   \n",
       "4        4 2014-10-15 17:27:00     4.000  call  2014-11      Tesco   \n",
       "228    228 2014-11-13 06:58:00    34.429  data  2014-12       data   \n",
       "231    231 2014-11-14 06:58:00    34.429  data  2014-12       data   \n",
       "232    232 2014-11-14 17:24:00   124.000  call  2014-12  voicemail   \n",
       "233    233 2014-11-14 17:28:00     1.000   sms  2014-12   Vodafone   \n",
       "234    234 2014-11-15 06:58:00    34.429  data  2014-12       data   \n",
       "381    381 2014-12-13 06:58:00    34.429  data  2015-01       data   \n",
       "386    386 2014-12-14 06:58:00    34.429  data  2015-01       data   \n",
       "389    389 2014-12-15 06:58:00    34.429  data  2015-01       data   \n",
       "390    390 2014-12-15 19:56:00     1.000   sms  2015-01      Three   \n",
       "391    391 2014-12-15 19:58:00     1.000   sms  2015-01      Three   \n",
       "577    577 2015-01-13 06:58:00    34.429  data  2015-02       data   \n",
       "586    586 2015-01-14 06:58:00    34.429  data  2015-02       data   \n",
       "594    594 2015-01-15 06:58:00    34.429  data  2015-02       data   \n",
       "595    595 2015-01-15 10:36:00    28.000  call  2015-02      Three   \n",
       "596    596 2015-01-15 12:23:00     1.000   sms  2015-02    special   \n",
       "729    729 2015-02-12 20:15:00    69.000  call  2015-03   landline   \n",
       "730    730 2015-02-12 20:51:00    86.000  call  2015-03      Tesco   \n",
       "731    731 2015-02-13 06:58:00    34.429  data  2015-03       data   \n",
       "732    732 2015-02-13 10:58:00   451.000  call  2015-03   Vodafone   \n",
       "733    733 2015-02-13 21:13:00     8.000  call  2015-03   Vodafone   \n",
       "\n",
       "    network_type  \n",
       "0           data  \n",
       "1         mobile  \n",
       "2         mobile  \n",
       "3         mobile  \n",
       "4         mobile  \n",
       "228         data  \n",
       "231         data  \n",
       "232    voicemail  \n",
       "233       mobile  \n",
       "234         data  \n",
       "381         data  \n",
       "386         data  \n",
       "389         data  \n",
       "390       mobile  \n",
       "391       mobile  \n",
       "577         data  \n",
       "586         data  \n",
       "594         data  \n",
       "595       mobile  \n",
       "596      special  \n",
       "729     landline  \n",
       "730       mobile  \n",
       "731         data  \n",
       "732       mobile  \n",
       "733       mobile  "
      ]
     },
     "execution_count": 99,
     "metadata": {},
     "output_type": "execute_result"
    }
   ],
   "source": [
    "data.groupby('month').head()"
   ]
  },
  {
   "cell_type": "code",
   "execution_count": 100,
   "id": "fc26010f",
   "metadata": {},
   "outputs": [
    {
     "data": {
      "text/plain": [
       "month\n",
       "2014-11    26639.441\n",
       "2014-12    14641.870\n",
       "2015-01    18223.299\n",
       "2015-02    15522.299\n",
       "2015-03    22750.441\n",
       "Name: duration, dtype: float64"
      ]
     },
     "execution_count": 100,
     "metadata": {},
     "output_type": "execute_result"
    }
   ],
   "source": [
    "data.groupby('month')['duration'].sum()\n",
    "#using strf time()\n",
    "#pd.to_dateTime\n",
    "#data.set_index\n",
    "#data.resample"
   ]
  },
  {
   "cell_type": "code",
   "execution_count": 101,
   "id": "6b3eb163",
   "metadata": {},
   "outputs": [
    {
     "data": {
      "text/plain": [
       "month\n",
       "2014-11    230\n",
       "2014-12    157\n",
       "2015-01    205\n",
       "2015-02    137\n",
       "2015-03    101\n",
       "Name: date, dtype: int64"
      ]
     },
     "execution_count": 101,
     "metadata": {},
     "output_type": "execute_result"
    }
   ],
   "source": [
    "data.groupby('month')['date'].count()"
   ]
  },
  {
   "cell_type": "code",
   "execution_count": 102,
   "id": "4659581c",
   "metadata": {},
   "outputs": [
    {
     "data": {
      "text/plain": [
       "network\n",
       "Meteor        7200.0\n",
       "Tesco        13828.0\n",
       "Three        36464.0\n",
       "Vodafone     14621.0\n",
       "landline     18433.0\n",
       "voicemail     1775.0\n",
       "Name: duration, dtype: float64"
      ]
     },
     "execution_count": 102,
     "metadata": {},
     "output_type": "execute_result"
    }
   ],
   "source": [
    "data[data['item'] == 'call'].groupby('network')['duration'].sum()"
   ]
  }
 ],
 "metadata": {
  "kernelspec": {
   "display_name": "Python 3 (ipykernel)",
   "language": "python",
   "name": "python3"
  },
  "language_info": {
   "codemirror_mode": {
    "name": "ipython",
    "version": 3
   },
   "file_extension": ".py",
   "mimetype": "text/x-python",
   "name": "python",
   "nbconvert_exporter": "python",
   "pygments_lexer": "ipython3",
   "version": "3.11.2"
  }
 },
 "nbformat": 4,
 "nbformat_minor": 5
}
